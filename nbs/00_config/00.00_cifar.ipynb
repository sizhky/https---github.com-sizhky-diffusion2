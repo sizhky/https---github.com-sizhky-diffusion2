{
 "cells": [
  {
   "cell_type": "markdown",
   "metadata": {},
   "source": [
    "# CIFAR Config\n",
    "\n",
    "> CIFAR training, model and data hyperparameters"
   ]
  },
  {
   "cell_type": "code",
   "execution_count": null,
   "metadata": {},
   "outputs": [],
   "source": [
    "# | default_exp config.cifar"
   ]
  },
  {
   "cell_type": "code",
   "execution_count": null,
   "metadata": {},
   "outputs": [],
   "source": [
    "# | hide\n",
    "\n",
    "%reload_ext jupyternotify\n",
    "%reload_ext nb_black\n",
    "%reload_ext autoreload\n",
    "%reload_ext line_profiler\n",
    "%autoreload 2\n",
    "%env CUDA_VISIBLE_DEVICES=\n",
    "\n",
    "from nbdev.showdoc import *"
   ]
  },
  {
   "cell_type": "code",
   "execution_count": null,
   "metadata": {},
   "outputs": [],
   "source": [
    "# | export\n",
    "import json\n",
    "from torch_snippets import *\n",
    "from torch_snippets.trainer.config import DeepLearningConfig, GenericConfig"
   ]
  },
  {
   "cell_type": "code",
   "execution_count": null,
   "metadata": {},
   "outputs": [],
   "source": [
    "# | export\n",
    "class Config:\n",
    "    \"\"\"Update Me\"\"\"\n",
    "\n",
    "    IMG_SIZE = 32  # input image size, CIFAR-10 is 32x32\n",
    "    BATCH_SIZE = 128  # for training batch size\n",
    "    timesteps = 16  # how many steps for a noisy image into clear\n",
    "    time_bar = 1 - np.linspace(0, 1.0, timesteps + 1)  # linspace for timesteps\n",
    "    device = torch.device(\"cuda\") if torch.cuda.is_available() else torch.device(\"cpu\")\n",
    "\n",
    "    def to_json_string(self):\n",
    "        o = {\n",
    "            k: getattr(self, k)\n",
    "            for k in dir(self)\n",
    "            if (\"__\" not in k)\n",
    "            and not any(k in d for d in [\"time_bar\", \"to_json_string\", \"device\"])\n",
    "        }\n",
    "        return json.dumps(o)"
   ]
  },
  {
   "cell_type": "code",
   "execution_count": null,
   "metadata": {},
   "outputs": [],
   "source": [
    "config = Config()\n",
    "config.to_json_string()"
   ]
  },
  {
   "cell_type": "code",
   "execution_count": null,
   "metadata": {},
   "outputs": [],
   "source": [
    "# | hide\n",
    "import nbdev\n",
    "\n",
    "nbdev.nbdev_export()"
   ]
  }
 ],
 "metadata": {
  "kernelspec": {
   "display_name": "mdm",
   "language": "python",
   "name": "mdm"
  }
 },
 "nbformat": 4,
 "nbformat_minor": 4
}
