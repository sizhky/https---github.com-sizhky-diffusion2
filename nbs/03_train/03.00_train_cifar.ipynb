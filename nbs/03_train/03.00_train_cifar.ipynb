{
 "cells": [
  {
   "cell_type": "markdown",
   "metadata": {},
   "source": [
    "# Train Diffusion model\n",
    "\n",
    "> Training code for diffusion model on cifar"
   ]
  },
  {
   "cell_type": "code",
   "execution_count": null,
   "metadata": {},
   "outputs": [],
   "source": [
    "# | default_exp train.cifar"
   ]
  },
  {
   "cell_type": "code",
   "execution_count": null,
   "metadata": {},
   "outputs": [],
   "source": [
    "# | hide\n",
    "from nbdev.showdoc import *\n",
    "\n",
    "%reload_ext jupyternotify\n",
    "%reload_ext nb_black\n",
    "%reload_ext autoreload\n",
    "%reload_ext line_profiler\n",
    "%autoreload 2\n",
    "%env CUDA_VISIBLE_DEVICES=\n",
    "\n",
    "import sys\n",
    "\n",
    "__root = \"../../\"\n",
    "sys.path.append(__root)"
   ]
  },
  {
   "cell_type": "code",
   "execution_count": null,
   "metadata": {},
   "outputs": [],
   "source": [
    "# | export\n",
    "from torch_snippets import *\n",
    "from simple_ddpm.data.load_cifar import *\n",
    "from simple_ddpm.model.ddpm import *"
   ]
  },
  {
   "cell_type": "code",
   "execution_count": null,
   "metadata": {},
   "outputs": [],
   "source": [
    "from simple_ddpm.config.cifar import Config\n",
    "from simple_ddpm.data.load_cifar import CIFARCars\n",
    "\n",
    "config = Config()\n",
    "config.BATCH_SIZE = 8\n",
    "data = CIFARCars(\"/Users/yeshwanth.y/Downloads/data\", config)\n",
    "dl = data.make_dataloader(collate_function=data.generate_noise_collator)\n",
    "batch = next(iter(dl))"
   ]
  },
  {
   "cell_type": "code",
   "execution_count": null,
   "metadata": {},
   "outputs": [],
   "source": [
    "from simple_ddpm.config.cifar import Config\n",
    "\n",
    "config = Config()\n",
    "model = Model(config)\n",
    "model.show_stepwise_denoise(n=2)"
   ]
  },
  {
   "cell_type": "code",
   "execution_count": null,
   "metadata": {},
   "outputs": [],
   "source": [
    "from transformers import TrainingArguments, Trainer\n",
    "\n",
    "train_dataset = data.data\n",
    "\n",
    "# Define training arguments\n",
    "training_args = TrainingArguments(\n",
    "    output_dir=\"./results\",\n",
    "    max_steps=100,\n",
    "    per_device_train_batch_size=2,\n",
    "    per_device_eval_batch_size=2,\n",
    "    evaluation_strategy=\"steps\",\n",
    "    save_steps=10,\n",
    "    eval_steps=10,\n",
    "    logging_steps=10,\n",
    "    logging_dir=\"./logs\",\n",
    ")\n",
    "\n",
    "# Initialize the Trainer\n",
    "trainer = Trainer(\n",
    "    model=model,\n",
    "    args=training_args,\n",
    "    data_collator=data.generate_noise_collator,\n",
    "    train_dataset=train_dataset,\n",
    "    eval_dataset=torch.utils.data.Subset(data.data, [1, 2, 3, 4]),\n",
    ")\n",
    "\n",
    "# Train the model\n",
    "trainer.train()"
   ]
  },
  {
   "cell_type": "code",
   "execution_count": null,
   "metadata": {},
   "outputs": [],
   "source": [
    "# | hide\n",
    "import nbdev\n",
    "\n",
    "nbdev.nbdev_export()"
   ]
  }
 ],
 "metadata": {
  "kernelspec": {
   "display_name": "mdm",
   "language": "python",
   "name": "mdm"
  }
 },
 "nbformat": 4,
 "nbformat_minor": 4
}
